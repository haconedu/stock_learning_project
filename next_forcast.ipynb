{
 "cells": [
  {
   "cell_type": "code",
   "execution_count": 1,
   "metadata": {},
   "outputs": [
    {
     "name": "stderr",
     "output_type": "stream",
     "text": [
      "/home/U2017042/project/data/trains_data.py:18: FutureWarning: Method .as_matrix will be removed in a future version. Use .values instead.\n",
      "  return cols_data.as_matrix()\n"
     ]
    },
    {
     "name": "stdout",
     "output_type": "stream",
     "text": [
      "INFO:tensorflow:Restoring parameters from ./data/files/sessions/FORCAST/FORCAST.ckpt\n",
      "1 2018.09.28 010140 삼성중공업 0.021824164 113 8080.0 8050.8755 -0.36%\n",
      "INFO:tensorflow:Restoring parameters from ./data/files/sessions/FORCAST/FORCAST.ckpt\n",
      "INFO:tensorflow:Restoring parameters from ./data/files/sessions/FORCAST/FORCAST.ckpt\n",
      "2 2018.09.28 000270 기아자동차 0.027038168 4 35100.0 33542.863 -4.44%\n",
      "INFO:tensorflow:Restoring parameters from ./data/files/sessions/FORCAST/FORCAST.ckpt\n",
      "INFO:tensorflow:Restoring parameters from ./data/files/sessions/FORCAST/FORCAST.ckpt\n",
      "3 2018.09.28 063080 게임빌 0.035470236 1 51500.0 51548.05 0.09%\n",
      "INFO:tensorflow:Restoring parameters from ./data/files/sessions/FORCAST/FORCAST.ckpt\n",
      "INFO:tensorflow:Restoring parameters from ./data/files/sessions/FORCAST/FORCAST.ckpt\n",
      "4 2018.09.28 085370 루트로닉 0.03814295 0 13050.0 12693.945 -2.73%\n",
      "INFO:tensorflow:Restoring parameters from ./data/files/sessions/FORCAST/FORCAST.ckpt\n",
      "INFO:tensorflow:Restoring parameters from ./data/files/sessions/FORCAST/FORCAST.ckpt\n",
      "5 2018.09.28 003520 영진약품 0.054661226 0 8430.0 8096.726 -3.95%\n",
      "INFO:tensorflow:Restoring parameters from ./data/files/sessions/FORCAST/FORCAST.ckpt\n",
      "INFO:tensorflow:Restoring parameters from ./data/files/sessions/FORCAST/FORCAST.ckpt\n",
      "6 2018.09.28 045390 대아티아이 0.0491792 2 8500.0 8946.481 5.25%\n",
      "INFO:tensorflow:Restoring parameters from ./data/files/sessions/FORCAST/FORCAST.ckpt\n",
      "INFO:tensorflow:Restoring parameters from ./data/files/sessions/FORCAST/FORCAST.ckpt\n",
      "7 2018.09.28 161390 한국타이어 0.06704203 180 50100.0 45980.99 -8.22%\n"
     ]
    }
   ],
   "source": [
    "import next_forcast as nf\n",
    "nf.main()"
   ]
  }
 ],
 "metadata": {
  "kernelspec": {
   "display_name": "Python 3",
   "language": "python",
   "name": "python3"
  },
  "language_info": {
   "codemirror_mode": {
    "name": "ipython",
    "version": 3
   },
   "file_extension": ".py",
   "mimetype": "text/x-python",
   "name": "python",
   "nbconvert_exporter": "python",
   "pygments_lexer": "ipython3",
   "version": "3.6.5"
  }
 },
 "nbformat": 4,
 "nbformat_minor": 2
}
