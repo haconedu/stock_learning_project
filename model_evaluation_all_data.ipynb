{
 "cells": [
  {
   "cell_type": "code",
   "execution_count": null,
   "metadata": {},
   "outputs": [],
   "source": [
    "!pip install xlrd\n",
    "!pip install openpyxl"
   ]
  },
  {
   "cell_type": "code",
   "execution_count": 2,
   "metadata": {
    "scrolled": false
   },
   "outputs": [],
   "source": [
    "import model_evaluation_all_data as me"
   ]
  },
  {
   "cell_type": "code",
   "execution_count": null,
   "metadata": {
    "scrolled": false
   },
   "outputs": [],
   "source": [
    "me.main()"
   ]
  },
  {
   "cell_type": "code",
   "execution_count": 4,
   "metadata": {},
   "outputs": [
    {
     "name": "stderr",
     "output_type": "stream",
     "text": [
      "/home/U2017042/project/data/trains_data.py:18: FutureWarning: Method .as_matrix will be removed in a future version. Use .values instead.\n",
      "  return cols_data.as_matrix()\n"
     ]
    },
    {
     "name": "stdout",
     "output_type": "stream",
     "text": [
      "INFO:tensorflow:Restoring parameters from ./data/files/sessions/ALL_CORPS_2.ckpt\n",
      "1 1040 CJ 0.03681069 9729316.0 9729316.0 122\n",
      "INFO:tensorflow:Restoring parameters from ./data/files/sessions/ALL_CORPS_2.ckpt\n",
      "INFO:tensorflow:Restoring parameters from ./data/files/sessions/ALL_CORPS_2.ckpt\n",
      "2 12630 HDC 0.025145281 9802992.36 8848632.755 9929\n",
      "INFO:tensorflow:Restoring parameters from ./data/files/sessions/ALL_CORPS_2.ckpt\n",
      "INFO:tensorflow:Restoring parameters from ./data/files/sessions/ALL_CORPS_2.ckpt\n",
      "3 1390 KG케미칼 0.01610683 7661902.339999999 9726196.3 11\n",
      "INFO:tensorflow:Restoring parameters from ./data/files/sessions/ALL_CORPS_2.ckpt\n",
      "INFO:tensorflow:Restoring parameters from ./data/files/sessions/ALL_CORPS_2.ckpt\n",
      "4 2360 SH에너지화학 0.004778401 9468027.408249998 9541715.94775 147\n",
      "INFO:tensorflow:Restoring parameters from ./data/files/sessions/ALL_CORPS_2.ckpt\n",
      "INFO:tensorflow:Restoring parameters from ./data/files/sessions/ALL_CORPS_2.ckpt\n",
      "5 1740 SK네트웍스 0.0041202856 10776703.605999999 10728370.984000001 20\n",
      "INFO:tensorflow:Restoring parameters from ./data/files/sessions/ALL_CORPS_2.ckpt\n",
      "INFO:tensorflow:Restoring parameters from ./data/files/sessions/ALL_CORPS_2.ckpt\n",
      "6 11810 STX 0.016266232 6448799.56 7154193.9 3\n",
      "INFO:tensorflow:Restoring parameters from ./data/files/sessions/ALL_CORPS_2.ckpt\n",
      "INFO:tensorflow:Restoring parameters from ./data/files/sessions/ALL_CORPS_2.ckpt\n",
      "7 24070 WISCOM 0.010450106 10000000 9225696.553 1998\n",
      "INFO:tensorflow:Restoring parameters from ./data/files/sessions/ALL_CORPS_2.ckpt\n",
      "INFO:tensorflow:Restoring parameters from ./data/files/sessions/ALL_CORPS_2.ckpt\n",
      "8 11420 갤럭시아에스엠 0.00517082 10043290.946 9445620.86875 1852\n",
      "INFO:tensorflow:Restoring parameters from ./data/files/sessions/ALL_CORPS_2.ckpt\n",
      "INFO:tensorflow:Restoring parameters from ./data/files/sessions/ALL_CORPS_2.ckpt\n",
      "9 2240 고려제강 0.0050284024 9537527.955 8850217.625 2\n",
      "INFO:tensorflow:Restoring parameters from ./data/files/sessions/ALL_CORPS_2.ckpt\n",
      "INFO:tensorflow:Restoring parameters from ./data/files/sessions/ALL_CORPS_2.ckpt\n",
      "10 1290 골든브릿지증권 0.004731281 8786180.60275 9899351.4705 2\n",
      "INFO:tensorflow:Restoring parameters from ./data/files/sessions/ALL_CORPS_2.ckpt\n",
      "INFO:tensorflow:Restoring parameters from ./data/files/sessions/ALL_CORPS_2.ckpt\n",
      "11 14530 극동유화 0.27047727 9708712.47075 9666867.200000001 7458\n",
      "INFO:tensorflow:Restoring parameters from ./data/files/sessions/ALL_CORPS_2.ckpt\n",
      "INFO:tensorflow:Restoring parameters from ./data/files/sessions/ALL_CORPS_2.ckpt\n",
      "12 13700 까뮤이앤씨 0.12980041 9034039.98375 8989051.9015 8285\n",
      "INFO:tensorflow:Restoring parameters from ./data/files/sessions/ALL_CORPS_2.ckpt\n",
      "INFO:tensorflow:Restoring parameters from ./data/files/sessions/ALL_CORPS_2.ckpt\n",
      "13 5250 녹십자홀딩스 0.010538974 9317704.605 9072910.900000002 24\n",
      "INFO:tensorflow:Restoring parameters from ./data/files/sessions/ALL_CORPS_2.ckpt\n",
      "INFO:tensorflow:Restoring parameters from ./data/files/sessions/ALL_CORPS_2.ckpt\n",
      "14 4130 대덕GDS 0.031627916 8845567.7225 9570489.555 4926\n",
      "INFO:tensorflow:Restoring parameters from ./data/files/sessions/ALL_CORPS_2.ckpt\n",
      "INFO:tensorflow:Restoring parameters from ./data/files/sessions/ALL_CORPS_2.ckpt\n",
      "15 14160 대영포장 0.00042962414 9678515.065599998 10593835.177 626\n",
      "INFO:tensorflow:Restoring parameters from ./data/files/sessions/ALL_CORPS_2.ckpt\n",
      "INFO:tensorflow:Restoring parameters from ./data/files/sessions/ALL_CORPS_2.ckpt\n",
      "16 3220 대원제약 0.01073346 9365951.682500001 9501188.26 44\n",
      "INFO:tensorflow:Restoring parameters from ./data/files/sessions/ALL_CORPS_2.ckpt\n",
      "INFO:tensorflow:Restoring parameters from ./data/files/sessions/ALL_CORPS_2.ckpt\n",
      "17 2880 대유에이텍 0.0014391785 8808054.015999999 10036221.752 155\n",
      "INFO:tensorflow:Restoring parameters from ./data/files/sessions/ALL_CORPS_2.ckpt\n",
      "INFO:tensorflow:Restoring parameters from ./data/files/sessions/ALL_CORPS_2.ckpt\n",
      "18 1620 동국실업 0.0015460466 8844017.138999999 9547312.456 453\n",
      "INFO:tensorflow:Restoring parameters from ./data/files/sessions/ALL_CORPS_2.ckpt\n",
      "INFO:tensorflow:Restoring parameters from ./data/files/sessions/ALL_CORPS_2.ckpt\n",
      "19 23450 동남합성 0.015744232 10079328.08 10113210.969999999 37\n",
      "INFO:tensorflow:Restoring parameters from ./data/files/sessions/ALL_CORPS_2.ckpt\n",
      "INFO:tensorflow:Restoring parameters from ./data/files/sessions/ALL_CORPS_2.ckpt\n",
      "20 4140 동방 0.0014392898 9228878.384750001 9893811.2535 31\n",
      "INFO:tensorflow:Restoring parameters from ./data/files/sessions/ALL_CORPS_2.ckpt\n",
      "INFO:tensorflow:Restoring parameters from ./data/files/sessions/ALL_CORPS_2.ckpt\n",
      "21 640 동아쏘시오홀딩스 0.020614414 10080276.225 10381299.725 133\n",
      "INFO:tensorflow:Restoring parameters from ./data/files/sessions/ALL_CORPS_2.ckpt\n",
      "INFO:tensorflow:Restoring parameters from ./data/files/sessions/ALL_CORPS_2.ckpt\n",
      "22 1520 동양 0.0027107354 8905256.95475 9793182.865000002 148\n",
      "INFO:tensorflow:Restoring parameters from ./data/files/sessions/ALL_CORPS_2.ckpt\n",
      "INFO:tensorflow:Restoring parameters from ./data/files/sessions/ALL_CORPS_2.ckpt\n",
      "23 400 롯데손해보험 0.0015316892 10000000 9245520.696 9\n",
      "INFO:tensorflow:Restoring parameters from ./data/files/sessions/ALL_CORPS_2.ckpt\n",
      "INFO:tensorflow:Restoring parameters from ./data/files/sessions/ALL_CORPS_2.ckpt\n",
      "24 9200 무림페이퍼 0.0038784482 9947766.67175 10777113.97 88\n",
      "INFO:tensorflow:Restoring parameters from ./data/files/sessions/ALL_CORPS_2.ckpt\n",
      "INFO:tensorflow:Restoring parameters from ./data/files/sessions/ALL_CORPS_2.ckpt\n",
      "25 6400 삼성SDI 0.01639949 10430320.45 10932431.5 124\n",
      "INFO:tensorflow:Restoring parameters from ./data/files/sessions/ALL_CORPS_2.ckpt\n",
      "INFO:tensorflow:Restoring parameters from ./data/files/sessions/ALL_CORPS_2.ckpt\n",
      "26 68290 삼성출판사 0.00946247 16503955.131499996 18353482.5 1\n",
      "INFO:tensorflow:Restoring parameters from ./data/files/sessions/ALL_CORPS_2.ckpt\n",
      "INFO:tensorflow:Restoring parameters from ./data/files/sessions/ALL_CORPS_2.ckpt\n",
      "27 810 삼성화재해상보험 0.023819495 9088091.35 9708477.925 2\n",
      "INFO:tensorflow:Restoring parameters from ./data/files/sessions/ALL_CORPS_2.ckpt\n",
      "INFO:tensorflow:Restoring parameters from ./data/files/sessions/ALL_CORPS_2.ckpt\n",
      "28 5680 삼영전자공업 0.012998653 8815616.0925 8849325.44 32\n",
      "INFO:tensorflow:Restoring parameters from ./data/files/sessions/ALL_CORPS_2.ckpt\n",
      "INFO:tensorflow:Restoring parameters from ./data/files/sessions/ALL_CORPS_2.ckpt\n",
      "29 3720 삼영화학공업 0.0012035107 10683888.309999999 10683888.309999999 121\n",
      "INFO:tensorflow:Restoring parameters from ./data/files/sessions/ALL_CORPS_2.ckpt\n",
      "INFO:tensorflow:Restoring parameters from ./data/files/sessions/ALL_CORPS_2.ckpt\n",
      "30 5500 삼진제약 0.0033966633 12222685.9525 12612335.65 126\n",
      "INFO:tensorflow:Restoring parameters from ./data/files/sessions/ALL_CORPS_2.ckpt\n",
      "INFO:tensorflow:Restoring parameters from ./data/files/sessions/ALL_CORPS_2.ckpt\n",
      "31 7610 선도전기 0.006173965 11029212.0855 12585066.76575 33\n",
      "INFO:tensorflow:Restoring parameters from ./data/files/sessions/ALL_CORPS_2.ckpt\n",
      "INFO:tensorflow:Restoring parameters from ./data/files/sessions/ALL_CORPS_2.ckpt\n",
      "32 67830 세이브존I&C 0.0019181619 9242930.521 9214959.752 21\n",
      "INFO:tensorflow:Restoring parameters from ./data/files/sessions/ALL_CORPS_2.ckpt\n",
      "INFO:tensorflow:Restoring parameters from ./data/files/sessions/ALL_CORPS_2.ckpt\n",
      "33 19170 신풍제약 0.005417841 8548300.659000002 10647391.36 80\n",
      "INFO:tensorflow:Restoring parameters from ./data/files/sessions/ALL_CORPS_2.ckpt\n",
      "INFO:tensorflow:Restoring parameters from ./data/files/sessions/ALL_CORPS_2.ckpt\n",
      "34 55550 신한지주 0.011553662 9468019.500000002 9750942.780000001 621\n",
      "INFO:tensorflow:Restoring parameters from ./data/files/sessions/ALL_CORPS_2.ckpt\n",
      "INFO:tensorflow:Restoring parameters from ./data/files/sessions/ALL_CORPS_2.ckpt\n",
      "35 10780 아이에스동서 0.004880099 12647049.3525 13563029.8675 0\n",
      "INFO:tensorflow:Restoring parameters from ./data/files/sessions/ALL_CORPS_2.ckpt\n",
      "INFO:tensorflow:Restoring parameters from ./data/files/sessions/ALL_CORPS_2.ckpt\n",
      "36 12280 영화금속 0.0016412127 9836477.465 8371983.651250001 1373\n",
      "INFO:tensorflow:Restoring parameters from ./data/files/sessions/ALL_CORPS_2.ckpt\n",
      "INFO:tensorflow:Restoring parameters from ./data/files/sessions/ALL_CORPS_2.ckpt\n",
      "37 5820 원림 0.01849657 8768831.265000002 9553798.7875 31\n",
      "INFO:tensorflow:Restoring parameters from ./data/files/sessions/ALL_CORPS_2.ckpt\n",
      "INFO:tensorflow:Restoring parameters from ./data/files/sessions/ALL_CORPS_2.ckpt\n"
     ]
    },
    {
     "name": "stdout",
     "output_type": "stream",
     "text": [
      "38 8600 윌비스 0.0020094325 9742677.5995 10312953.256 286\n",
      "INFO:tensorflow:Restoring parameters from ./data/files/sessions/ALL_CORPS_2.ckpt\n",
      "INFO:tensorflow:Restoring parameters from ./data/files/sessions/ALL_CORPS_2.ckpt\n",
      "39 23800 인지컨트롤스 0.014805889 9398695.444999998 10456179.282000002 55\n",
      "INFO:tensorflow:Restoring parameters from ./data/files/sessions/ALL_CORPS_2.ckpt\n",
      "INFO:tensorflow:Restoring parameters from ./data/files/sessions/ALL_CORPS_2.ckpt\n",
      "40 25620 제이준코스메틱 0.024195807 9522698.407499999 9091193.537500001 13\n",
      "INFO:tensorflow:Restoring parameters from ./data/files/sessions/ALL_CORPS_2.ckpt\n",
      "INFO:tensorflow:Restoring parameters from ./data/files/sessions/ALL_CORPS_2.ckpt\n",
      "41 2620 제일파마홀딩스 0.047399923 9585196.5125 9749474.1225 0\n",
      "INFO:tensorflow:Restoring parameters from ./data/files/sessions/ALL_CORPS_2.ckpt\n",
      "INFO:tensorflow:Restoring parameters from ./data/files/sessions/ALL_CORPS_2.ckpt\n",
      "42 18470 조일알미늄 0.0027238673 8113625.549499999 10081439.107749999 73\n",
      "INFO:tensorflow:Restoring parameters from ./data/files/sessions/ALL_CORPS_2.ckpt\n",
      "INFO:tensorflow:Restoring parameters from ./data/files/sessions/ALL_CORPS_2.ckpt\n",
      "43 2600 조흥 0.018518241 9388975.625000002 9298867.375 958\n",
      "INFO:tensorflow:Restoring parameters from ./data/files/sessions/ALL_CORPS_2.ckpt\n",
      "INFO:tensorflow:Restoring parameters from ./data/files/sessions/ALL_CORPS_2.ckpt\n",
      "44 29460 케이씨 0.08571911 10392630.305 11157444.065 9\n",
      "INFO:tensorflow:Restoring parameters from ./data/files/sessions/ALL_CORPS_2.ckpt\n",
      "INFO:tensorflow:Restoring parameters from ./data/files/sessions/ALL_CORPS_2.ckpt\n",
      "45 7810 코리아써키트 0.017213628 9263617.85 9605114.544 96\n",
      "INFO:tensorflow:Restoring parameters from ./data/files/sessions/ALL_CORPS_2.ckpt\n",
      "INFO:tensorflow:Restoring parameters from ./data/files/sessions/ALL_CORPS_2.ckpt\n",
      "46 21240 코웨이 0.01817274 9829374.444999998 10793773.699999997 17\n",
      "INFO:tensorflow:Restoring parameters from ./data/files/sessions/ALL_CORPS_2.ckpt\n",
      "INFO:tensorflow:Restoring parameters from ./data/files/sessions/ALL_CORPS_2.ckpt\n",
      "47 20120 키다리스튜디오 0.0012712129 9681349.513 10528155.8845 25\n",
      "INFO:tensorflow:Restoring parameters from ./data/files/sessions/ALL_CORPS_2.ckpt\n",
      "INFO:tensorflow:Restoring parameters from ./data/files/sessions/ALL_CORPS_2.ckpt\n",
      "48 3240 태광산업 0.010447932 10664530.899999999 11034324.899999999 165\n",
      "INFO:tensorflow:Restoring parameters from ./data/files/sessions/ALL_CORPS_2.ckpt\n"
     ]
    },
    {
     "ename": "KeyboardInterrupt",
     "evalue": "",
     "traceback": [
      "\u001b[0;31m---------------------------------------------------------------------------\u001b[0m",
      "\u001b[0;31mKeyboardInterrupt\u001b[0m                         Traceback (most recent call last)",
      "\u001b[0;32m<ipython-input-4-c3996a05a022>\u001b[0m in \u001b[0;36m<module>\u001b[0;34m()\u001b[0m\n\u001b[1;32m     17\u001b[0m     \u001b[0;34m'kor_font_path'\u001b[0m\u001b[0;34m:\u001b[0m \u001b[0;34m'C:\\\\WINDOWS\\\\Fonts\\\\H2GTRM.TTF'\u001b[0m\u001b[0;34m\u001b[0m\u001b[0m\n\u001b[1;32m     18\u001b[0m }\n\u001b[0;32m---> 19\u001b[0;31m \u001b[0mme\u001b[0m\u001b[0;34m.\u001b[0m\u001b[0mmain\u001b[0m\u001b[0;34m(\u001b[0m\u001b[0;36m1\u001b[0m\u001b[0;34m,\u001b[0m \u001b[0mparams\u001b[0m\u001b[0;34m,\u001b[0m \u001b[0;34m'ALL_CORPS_2'\u001b[0m\u001b[0;34m,\u001b[0m \u001b[0;34m'training_invest_all_result_2'\u001b[0m\u001b[0;34m)\u001b[0m\u001b[0;34m\u001b[0m\u001b[0m\n\u001b[0m",
      "\u001b[0;32m~/project/model_evaluation_all_data.py\u001b[0m in \u001b[0;36mmain\u001b[0;34m(start_no, params, session_file_name, result_file_name)\u001b[0m\n\u001b[1;32m     65\u001b[0m             \u001b[0;34m'kor_font_path'\u001b[0m\u001b[0;34m:\u001b[0m \u001b[0;34m'C:\\\\WINDOWS\\\\Fonts\\\\H2GTRM.TTF'\u001b[0m\u001b[0;34m\u001b[0m\u001b[0m\n\u001b[1;32m     66\u001b[0m         }\n\u001b[0;32m---> 67\u001b[0;31m     \u001b[0mlet_train_invests\u001b[0m\u001b[0;34m(\u001b[0m\u001b[0mcorps\u001b[0m\u001b[0;34m,\u001b[0m \u001b[0mparams\u001b[0m\u001b[0;34m,\u001b[0m \u001b[0mstart_no\u001b[0m\u001b[0;34m,\u001b[0m \u001b[0msession_file_name\u001b[0m\u001b[0;34m,\u001b[0m \u001b[0mresult_file_name\u001b[0m\u001b[0;34m)\u001b[0m\u001b[0;34m\u001b[0m\u001b[0m\n\u001b[0m\u001b[1;32m     68\u001b[0m \u001b[0;34m\u001b[0m\u001b[0m\n\u001b[1;32m     69\u001b[0m \u001b[0;34m\u001b[0m\u001b[0m\n",
      "\u001b[0;32m~/project/model_evaluation_all_data.py\u001b[0m in \u001b[0;36mlet_train_invests\u001b[0;34m(corps, params, start_no, session_file_name, result_file_name)\u001b[0m\n\u001b[1;32m     32\u001b[0m         \u001b[0mcorp_code\u001b[0m \u001b[0;34m=\u001b[0m \u001b[0mcorp_data\u001b[0m\u001b[0;34m[\u001b[0m\u001b[0;34m'종목코드'\u001b[0m\u001b[0;34m]\u001b[0m\u001b[0;34m\u001b[0m\u001b[0m\n\u001b[1;32m     33\u001b[0m         \u001b[0mcorp_name\u001b[0m \u001b[0;34m=\u001b[0m \u001b[0mcorp_data\u001b[0m\u001b[0;34m[\u001b[0m\u001b[0;34m'회사명'\u001b[0m\u001b[0;34m]\u001b[0m\u001b[0;34m\u001b[0m\u001b[0m\n\u001b[0;32m---> 34\u001b[0;31m         \u001b[0mresult\u001b[0m \u001b[0;34m=\u001b[0m \u001b[0mlet_train_invest\u001b[0m\u001b[0;34m(\u001b[0m\u001b[0mcorp_code\u001b[0m\u001b[0;34m,\u001b[0m \u001b[0mcorp_name\u001b[0m\u001b[0;34m,\u001b[0m \u001b[0mparams\u001b[0m\u001b[0;34m,\u001b[0m \u001b[0mno\u001b[0m\u001b[0;34m,\u001b[0m \u001b[0msession_file_name\u001b[0m\u001b[0;34m)\u001b[0m\u001b[0;34m\u001b[0m\u001b[0m\n\u001b[0m\u001b[1;32m     35\u001b[0m         \u001b[0mcomp_rmses\u001b[0m\u001b[0;34m.\u001b[0m\u001b[0mappend\u001b[0m\u001b[0;34m(\u001b[0m\u001b[0mresult\u001b[0m\u001b[0;34m)\u001b[0m\u001b[0;34m\u001b[0m\u001b[0m\n\u001b[1;32m     36\u001b[0m         \u001b[0;32mif\u001b[0m \u001b[0mno\u001b[0m \u001b[0;34m%\u001b[0m \u001b[0;36m10\u001b[0m \u001b[0;34m==\u001b[0m \u001b[0;36m0\u001b[0m\u001b[0;34m:\u001b[0m\u001b[0;34m\u001b[0m\u001b[0m\n",
      "\u001b[0;32m~/project/model_evaluation_all_data.py\u001b[0m in \u001b[0;36mlet_train_invest\u001b[0;34m(corp_code, corp_name, params, no, session_file_name)\u001b[0m\n\u001b[1;32m     16\u001b[0m     \u001b[0mstock_data\u001b[0m \u001b[0;34m=\u001b[0m \u001b[0mstocks\u001b[0m\u001b[0;34m.\u001b[0m\u001b[0mget_stock_data\u001b[0m\u001b[0;34m(\u001b[0m\u001b[0mcorp_code\u001b[0m\u001b[0;34m)\u001b[0m\u001b[0;34m\u001b[0m\u001b[0m\n\u001b[1;32m     17\u001b[0m     \u001b[0mdata_params\u001b[0m\u001b[0;34m,\u001b[0m \u001b[0mscaler_close\u001b[0m\u001b[0;34m,\u001b[0m \u001b[0mdataX_last\u001b[0m \u001b[0;34m=\u001b[0m \u001b[0mtrains_data\u001b[0m\u001b[0;34m.\u001b[0m\u001b[0mget_train_test\u001b[0m\u001b[0;34m(\u001b[0m\u001b[0mstock_data\u001b[0m\u001b[0;34m)\u001b[0m\u001b[0;34m\u001b[0m\u001b[0m\n\u001b[0;32m---> 18\u001b[0;31m     \u001b[0mrmse_val\u001b[0m\u001b[0;34m,\u001b[0m \u001b[0mtrain_cnt\u001b[0m\u001b[0;34m,\u001b[0m \u001b[0mrmse_vals\u001b[0m\u001b[0;34m,\u001b[0m \u001b[0mtest_predict\u001b[0m \u001b[0;34m=\u001b[0m \u001b[0mlearning\u001b[0m\u001b[0;34m.\u001b[0m\u001b[0mlet_learning\u001b[0m\u001b[0;34m(\u001b[0m\u001b[0mcorp_code\u001b[0m\u001b[0;34m,\u001b[0m \u001b[0mdata_params\u001b[0m\u001b[0;34m)\u001b[0m\u001b[0;34m\u001b[0m\u001b[0m\n\u001b[0m\u001b[1;32m     19\u001b[0m     last_money, last_predict, invest_predicts, all_invest_money = invest.let_invest(corp_code, train_cnt, dataX_last,\n\u001b[1;32m     20\u001b[0m                                                                                     data_params)\n",
      "\u001b[0;32m~/project/trains/learning.py\u001b[0m in \u001b[0;36mlet_learning\u001b[0;34m(self, comp_code, data_params)\u001b[0m\n\u001b[1;32m    168\u001b[0m         \u001b[0;34m\"\"\"그래프를 그리고 학습을 시킨다.\"\"\"\u001b[0m\u001b[0;34m\u001b[0m\u001b[0m\n\u001b[1;32m    169\u001b[0m         \u001b[0mgraph_params\u001b[0m \u001b[0;34m=\u001b[0m \u001b[0mself\u001b[0m\u001b[0;34m.\u001b[0m\u001b[0mdraw_graph\u001b[0m\u001b[0;34m(\u001b[0m\u001b[0;34m)\u001b[0m\u001b[0;34m\u001b[0m\u001b[0m\n\u001b[0;32m--> 170\u001b[0;31m         \u001b[0;32mreturn\u001b[0m \u001b[0mself\u001b[0m\u001b[0;34m.\u001b[0m\u001b[0mlet_training\u001b[0m\u001b[0;34m(\u001b[0m\u001b[0mgraph_params\u001b[0m\u001b[0;34m,\u001b[0m \u001b[0mcomp_code\u001b[0m\u001b[0;34m,\u001b[0m \u001b[0mdata_params\u001b[0m\u001b[0;34m)\u001b[0m\u001b[0;34m\u001b[0m\u001b[0m\n\u001b[0m",
      "\u001b[0;32m~/project/trains/learning.py\u001b[0m in \u001b[0;36mlet_training\u001b[0;34m(self, graph_params, comp_code, data_params)\u001b[0m\n\u001b[1;32m    132\u001b[0m \u001b[0;34m\u001b[0m\u001b[0m\n\u001b[1;32m    133\u001b[0m             \u001b[0;32mif\u001b[0m \u001b[0mos\u001b[0m\u001b[0;34m.\u001b[0m\u001b[0mpath\u001b[0m\u001b[0;34m.\u001b[0m\u001b[0misfile\u001b[0m\u001b[0;34m(\u001b[0m\u001b[0msession_path\u001b[0m \u001b[0;34m+\u001b[0m \u001b[0;34m'.index'\u001b[0m\u001b[0;34m)\u001b[0m\u001b[0;34m:\u001b[0m\u001b[0;34m\u001b[0m\u001b[0m\n\u001b[0;32m--> 134\u001b[0;31m                 \u001b[0msaver\u001b[0m\u001b[0;34m.\u001b[0m\u001b[0mrestore\u001b[0m\u001b[0;34m(\u001b[0m\u001b[0msess\u001b[0m\u001b[0;34m,\u001b[0m \u001b[0msession_path\u001b[0m\u001b[0;34m)\u001b[0m\u001b[0;34m\u001b[0m\u001b[0m\n\u001b[0m\u001b[1;32m    135\u001b[0m                 \u001b[0miterations\u001b[0m\u001b[0;34m[\u001b[0m\u001b[0;36m0\u001b[0m\u001b[0;34m]\u001b[0m \u001b[0;34m=\u001b[0m \u001b[0;36m0\u001b[0m\u001b[0;34m\u001b[0m\u001b[0m\n\u001b[1;32m    136\u001b[0m                 \u001b[0mrestored\u001b[0m \u001b[0;34m=\u001b[0m \u001b[0;32mTrue\u001b[0m\u001b[0;34m\u001b[0m\u001b[0m\n",
      "\u001b[0;32m/opt/venv/lib/python3.6/site-packages/tensorflow/python/training/saver.py\u001b[0m in \u001b[0;36mrestore\u001b[0;34m(self, sess, save_path)\u001b[0m\n\u001b[1;32m   1664\u001b[0m     \u001b[0;32mif\u001b[0m \u001b[0mcontext\u001b[0m\u001b[0;34m.\u001b[0m\u001b[0min_graph_mode\u001b[0m\u001b[0;34m(\u001b[0m\u001b[0;34m)\u001b[0m\u001b[0;34m:\u001b[0m\u001b[0;34m\u001b[0m\u001b[0m\n\u001b[1;32m   1665\u001b[0m       sess.run(self.saver_def.restore_op_name,\n\u001b[0;32m-> 1666\u001b[0;31m                {self.saver_def.filename_tensor_name: save_path})\n\u001b[0m\u001b[1;32m   1667\u001b[0m     \u001b[0;32melse\u001b[0m\u001b[0;34m:\u001b[0m\u001b[0;34m\u001b[0m\u001b[0m\n\u001b[1;32m   1668\u001b[0m       \u001b[0mself\u001b[0m\u001b[0;34m.\u001b[0m\u001b[0m_build_eager\u001b[0m\u001b[0;34m(\u001b[0m\u001b[0msave_path\u001b[0m\u001b[0;34m,\u001b[0m \u001b[0mbuild_save\u001b[0m\u001b[0;34m=\u001b[0m\u001b[0;32mFalse\u001b[0m\u001b[0;34m,\u001b[0m \u001b[0mbuild_restore\u001b[0m\u001b[0;34m=\u001b[0m\u001b[0;32mTrue\u001b[0m\u001b[0;34m)\u001b[0m\u001b[0;34m\u001b[0m\u001b[0m\n",
      "\u001b[0;32m/opt/venv/lib/python3.6/site-packages/tensorflow/python/client/session.py\u001b[0m in \u001b[0;36mrun\u001b[0;34m(self, fetches, feed_dict, options, run_metadata)\u001b[0m\n\u001b[1;32m    887\u001b[0m     \u001b[0;32mtry\u001b[0m\u001b[0;34m:\u001b[0m\u001b[0;34m\u001b[0m\u001b[0m\n\u001b[1;32m    888\u001b[0m       result = self._run(None, fetches, feed_dict, options_ptr,\n\u001b[0;32m--> 889\u001b[0;31m                          run_metadata_ptr)\n\u001b[0m\u001b[1;32m    890\u001b[0m       \u001b[0;32mif\u001b[0m \u001b[0mrun_metadata\u001b[0m\u001b[0;34m:\u001b[0m\u001b[0;34m\u001b[0m\u001b[0m\n\u001b[1;32m    891\u001b[0m         \u001b[0mproto_data\u001b[0m \u001b[0;34m=\u001b[0m \u001b[0mtf_session\u001b[0m\u001b[0;34m.\u001b[0m\u001b[0mTF_GetBuffer\u001b[0m\u001b[0;34m(\u001b[0m\u001b[0mrun_metadata_ptr\u001b[0m\u001b[0;34m)\u001b[0m\u001b[0;34m\u001b[0m\u001b[0m\n",
      "\u001b[0;32m/opt/venv/lib/python3.6/site-packages/tensorflow/python/client/session.py\u001b[0m in \u001b[0;36m_run\u001b[0;34m(self, handle, fetches, feed_dict, options, run_metadata)\u001b[0m\n\u001b[1;32m   1118\u001b[0m     \u001b[0;32mif\u001b[0m \u001b[0mfinal_fetches\u001b[0m \u001b[0;32mor\u001b[0m \u001b[0mfinal_targets\u001b[0m \u001b[0;32mor\u001b[0m \u001b[0;34m(\u001b[0m\u001b[0mhandle\u001b[0m \u001b[0;32mand\u001b[0m \u001b[0mfeed_dict_tensor\u001b[0m\u001b[0;34m)\u001b[0m\u001b[0;34m:\u001b[0m\u001b[0;34m\u001b[0m\u001b[0m\n\u001b[1;32m   1119\u001b[0m       results = self._do_run(handle, final_targets, final_fetches,\n\u001b[0;32m-> 1120\u001b[0;31m                              feed_dict_tensor, options, run_metadata)\n\u001b[0m\u001b[1;32m   1121\u001b[0m     \u001b[0;32melse\u001b[0m\u001b[0;34m:\u001b[0m\u001b[0;34m\u001b[0m\u001b[0m\n\u001b[1;32m   1122\u001b[0m       \u001b[0mresults\u001b[0m \u001b[0;34m=\u001b[0m \u001b[0;34m[\u001b[0m\u001b[0;34m]\u001b[0m\u001b[0;34m\u001b[0m\u001b[0m\n",
      "\u001b[0;32m/opt/venv/lib/python3.6/site-packages/tensorflow/python/client/session.py\u001b[0m in \u001b[0;36m_do_run\u001b[0;34m(self, handle, target_list, fetch_list, feed_dict, options, run_metadata)\u001b[0m\n\u001b[1;32m   1315\u001b[0m     \u001b[0;32mif\u001b[0m \u001b[0mhandle\u001b[0m \u001b[0;32mis\u001b[0m \u001b[0;32mNone\u001b[0m\u001b[0;34m:\u001b[0m\u001b[0;34m\u001b[0m\u001b[0m\n\u001b[1;32m   1316\u001b[0m       return self._do_call(_run_fn, self._session, feeds, fetches, targets,\n\u001b[0;32m-> 1317\u001b[0;31m                            options, run_metadata)\n\u001b[0m\u001b[1;32m   1318\u001b[0m     \u001b[0;32melse\u001b[0m\u001b[0;34m:\u001b[0m\u001b[0;34m\u001b[0m\u001b[0m\n\u001b[1;32m   1319\u001b[0m       \u001b[0;32mreturn\u001b[0m \u001b[0mself\u001b[0m\u001b[0;34m.\u001b[0m\u001b[0m_do_call\u001b[0m\u001b[0;34m(\u001b[0m\u001b[0m_prun_fn\u001b[0m\u001b[0;34m,\u001b[0m \u001b[0mself\u001b[0m\u001b[0;34m.\u001b[0m\u001b[0m_session\u001b[0m\u001b[0;34m,\u001b[0m \u001b[0mhandle\u001b[0m\u001b[0;34m,\u001b[0m \u001b[0mfeeds\u001b[0m\u001b[0;34m,\u001b[0m \u001b[0mfetches\u001b[0m\u001b[0;34m)\u001b[0m\u001b[0;34m\u001b[0m\u001b[0m\n",
      "\u001b[0;32m/opt/venv/lib/python3.6/site-packages/tensorflow/python/client/session.py\u001b[0m in \u001b[0;36m_do_call\u001b[0;34m(self, fn, *args)\u001b[0m\n\u001b[1;32m   1321\u001b[0m   \u001b[0;32mdef\u001b[0m \u001b[0m_do_call\u001b[0m\u001b[0;34m(\u001b[0m\u001b[0mself\u001b[0m\u001b[0;34m,\u001b[0m \u001b[0mfn\u001b[0m\u001b[0;34m,\u001b[0m \u001b[0;34m*\u001b[0m\u001b[0margs\u001b[0m\u001b[0;34m)\u001b[0m\u001b[0;34m:\u001b[0m\u001b[0;34m\u001b[0m\u001b[0m\n\u001b[1;32m   1322\u001b[0m     \u001b[0;32mtry\u001b[0m\u001b[0;34m:\u001b[0m\u001b[0;34m\u001b[0m\u001b[0m\n\u001b[0;32m-> 1323\u001b[0;31m       \u001b[0;32mreturn\u001b[0m \u001b[0mfn\u001b[0m\u001b[0;34m(\u001b[0m\u001b[0;34m*\u001b[0m\u001b[0margs\u001b[0m\u001b[0;34m)\u001b[0m\u001b[0;34m\u001b[0m\u001b[0m\n\u001b[0m\u001b[1;32m   1324\u001b[0m     \u001b[0;32mexcept\u001b[0m \u001b[0merrors\u001b[0m\u001b[0;34m.\u001b[0m\u001b[0mOpError\u001b[0m \u001b[0;32mas\u001b[0m \u001b[0me\u001b[0m\u001b[0;34m:\u001b[0m\u001b[0;34m\u001b[0m\u001b[0m\n\u001b[1;32m   1325\u001b[0m       \u001b[0mmessage\u001b[0m \u001b[0;34m=\u001b[0m \u001b[0mcompat\u001b[0m\u001b[0;34m.\u001b[0m\u001b[0mas_text\u001b[0m\u001b[0;34m(\u001b[0m\u001b[0me\u001b[0m\u001b[0;34m.\u001b[0m\u001b[0mmessage\u001b[0m\u001b[0;34m)\u001b[0m\u001b[0;34m\u001b[0m\u001b[0m\n",
      "\u001b[0;32m/opt/venv/lib/python3.6/site-packages/tensorflow/python/client/session.py\u001b[0m in \u001b[0;36m_run_fn\u001b[0;34m(session, feed_dict, fetch_list, target_list, options, run_metadata)\u001b[0m\n\u001b[1;32m   1300\u001b[0m           return tf_session.TF_Run(session, options,\n\u001b[1;32m   1301\u001b[0m                                    \u001b[0mfeed_dict\u001b[0m\u001b[0;34m,\u001b[0m \u001b[0mfetch_list\u001b[0m\u001b[0;34m,\u001b[0m \u001b[0mtarget_list\u001b[0m\u001b[0;34m,\u001b[0m\u001b[0;34m\u001b[0m\u001b[0m\n\u001b[0;32m-> 1302\u001b[0;31m                                    status, run_metadata)\n\u001b[0m\u001b[1;32m   1303\u001b[0m \u001b[0;34m\u001b[0m\u001b[0m\n\u001b[1;32m   1304\u001b[0m     \u001b[0;32mdef\u001b[0m \u001b[0m_prun_fn\u001b[0m\u001b[0;34m(\u001b[0m\u001b[0msession\u001b[0m\u001b[0;34m,\u001b[0m \u001b[0mhandle\u001b[0m\u001b[0;34m,\u001b[0m \u001b[0mfeed_dict\u001b[0m\u001b[0;34m,\u001b[0m \u001b[0mfetch_list\u001b[0m\u001b[0;34m)\u001b[0m\u001b[0;34m:\u001b[0m\u001b[0;34m\u001b[0m\u001b[0m\n",
      "\u001b[0;31mKeyboardInterrupt\u001b[0m: "
     ],
     "output_type": "error"
    }
   ],
   "source": [
    "me.train_to_one_session_deep()"
   ]
  }
 ],
 "metadata": {
  "kernelspec": {
   "display_name": "Python 3",
   "language": "python",
   "name": "python3"
  },
  "language_info": {
   "codemirror_mode": {
    "name": "ipython",
    "version": 3
   },
   "file_extension": ".py",
   "mimetype": "text/x-python",
   "name": "python",
   "nbconvert_exporter": "python",
   "pygments_lexer": "ipython3",
   "version": "3.6.5"
  }
 },
 "nbformat": 4,
 "nbformat_minor": 2
}
